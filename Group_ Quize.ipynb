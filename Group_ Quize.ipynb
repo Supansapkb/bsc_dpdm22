{
  "nbformat": 4,
  "nbformat_minor": 0,
  "metadata": {
    "colab": {
      "provenance": [],
      "authorship_tag": "ABX9TyOAuTaJKvKzwVPBaMNMC3QC",
      "include_colab_link": true
    },
    "kernelspec": {
      "name": "python3",
      "display_name": "Python 3"
    },
    "language_info": {
      "name": "python"
    }
  },
  "cells": [
    {
      "cell_type": "markdown",
      "metadata": {
        "id": "view-in-github",
        "colab_type": "text"
      },
      "source": [
        "<a href=\"https://colab.research.google.com/github/Supansapkb/bsc_dpdm22/blob/main/Group_%20Quize.ipynb\" target=\"_parent\"><img src=\"https://colab.research.google.com/assets/colab-badge.svg\" alt=\"Open In Colab\"/></a>"
      ]
    },
    {
      "cell_type": "code",
      "execution_count": 1,
      "metadata": {
        "id": "JwocrCxxj35c"
      },
      "outputs": [],
      "source": [
        "import pandas as pd"
      ]
    },
    {
      "cell_type": "code",
      "source": [
        "from google.colab import drive\n",
        "drive.mount('/content/drive')"
      ],
      "metadata": {
        "colab": {
          "base_uri": "https://localhost:8080/"
        },
        "id": "0mrI-wtjqvTV",
        "outputId": "641137e3-8c13-41a5-f75b-0da4771c85de"
      },
      "execution_count": 2,
      "outputs": [
        {
          "output_type": "stream",
          "name": "stdout",
          "text": [
            "Mounted at /content/drive\n"
          ]
        }
      ]
    },
    {
      "cell_type": "markdown",
      "source": [
        " # ความกดอากาศ\n",
        " - เรียกข้อมูล"
      ],
      "metadata": {
        "id": "HCzcPXQ01A1U"
      }
    },
    {
      "cell_type": "code",
      "source": [
        "#ขอนแก่น\n",
        "air1 = pd.read_excel('/content/drive/MyDrive/bsc_dpdm22/อุตุ/ความกด(เปอร์เซ็นต์)/จ.ขอนแก่น.xlsx')\n",
        "air1"
      ],
      "metadata": {
        "id": "V5uT_ELhrRp6"
      },
      "execution_count": null,
      "outputs": []
    },
    {
      "cell_type": "code",
      "source": [
        "# นครพนม\n",
        "air2 = pd.read_excel('/content/drive/MyDrive/bsc_dpdm22/อุตุ/ความกด(เปอร์เซ็นต์)/จ.นครพนม.xlsx')\n",
        "air2"
      ],
      "metadata": {
        "id": "GqUmQ-j8wEgk"
      },
      "execution_count": null,
      "outputs": []
    },
    {
      "cell_type": "code",
      "source": [
        "#สกลนคร\n",
        "air3 = pd.read_excel('/content/drive/MyDrive/bsc_dpdm22/อุตุ/ความกด(เปอร์เซ็นต์)/จ.สกลนคร.xlsx')\n",
        "air3"
      ],
      "metadata": {
        "id": "vbnSdPzpwzu7"
      },
      "execution_count": null,
      "outputs": []
    },
    {
      "cell_type": "code",
      "source": [
        "#หนองคาย\n",
        "air4 = pd.read_excel('/content/drive/MyDrive/bsc_dpdm22/อุตุ/ความกด(เปอร์เซ็นต์)/จ.หนองคาย.xlsx')\n",
        "air4"
      ],
      "metadata": {
        "id": "0jTaq8p9w84i"
      },
      "execution_count": null,
      "outputs": []
    },
    {
      "cell_type": "code",
      "source": [
        "# เลย\n",
        "air5 = pd.read_excel('/content/drive/MyDrive/bsc_dpdm22/อุตุ/ความกด(เปอร์เซ็นต์)/จ.เลย.xlsx')\n",
        "air5"
      ],
      "metadata": {
        "id": "GUdfiFngxFbL"
      },
      "execution_count": null,
      "outputs": []
    },
    {
      "cell_type": "markdown",
      "source": [
        "# ความชื้นสัมพัทธ์"
      ],
      "metadata": {
        "id": "EIdD00ml2_gH"
      }
    },
    {
      "cell_type": "code",
      "source": [
        "# ขอนแก่น\n",
        "moi1 = pd.read_excel('/content/drive/MyDrive/bsc_dpdm22/อุตุ/ความชื้นสัมพัทธ์(เปอร์เซ็นต์)/จ.ขอนแก่น.xlsx')\n",
        "moi1"
      ],
      "metadata": {
        "id": "6jeWk-uV3Gjo"
      },
      "execution_count": null,
      "outputs": []
    }
  ]
}